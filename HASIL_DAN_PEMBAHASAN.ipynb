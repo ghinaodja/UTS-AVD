{
  "nbformat": 4,
  "nbformat_minor": 0,
  "metadata": {
    "colab": {
      "provenance": []
    },
    "kernelspec": {
      "name": "python3",
      "display_name": "Python 3"
    },
    "language_info": {
      "name": "python"
    }
  },
  "cells": [
    {
      "cell_type": "markdown",
      "source": [
        "# **HASIL ANALISIS**"
      ],
      "metadata": {
        "id": "rxpzLevXLExq"
      }
    },
    {
      "cell_type": "markdown",
      "source": [
        "\n",
        "Dari hasil analisis menggunakan algoritma Decision Tree, dapat dilihat bahwa faktor-faktor yang paling berpengaruh terhadap tingginya jumlah penjualan (High Sales) adalah harga produk, kapasitas RAM, ROM, dan juga merek dari produk (Brand). Model telah mengklasifikasikan data dengan cukup baik berdasarkan fitur-fitur ini. Misalnya, produk dengan harga yang lebih rendah cenderung memiliki kemungkinan lebih tinggi untuk masuk kategori penjualan tinggi, terutama jika dilengkapi dengan RAM dan penyimpanan yang memadai. Brand tertentu juga menunjukkan pengaruh positif terhadap penjualan, kemungkinan karena reputasi atau preferensi pasar. Selain itu, model memiliki performa yang cukup seimbang antara recall dan precision, artinya model tidak hanya mampu menangkap kasus yang benar-benar 'High Sales' tetapi juga tidak terlalu banyak menghasilkan prediksi yang salah."
      ],
      "metadata": {
        "id": "C0voRGLALKAS"
      }
    },
    {
      "cell_type": "markdown",
      "source": [
        "# **REKOMENDASI**"
      ],
      "metadata": {
        "id": "zU560Hk-LM3N"
      }
    },
    {
      "cell_type": "markdown",
      "source": [
        "1. Fokuskan promosi dan stok produk dengan harga terjangkau namun spesifikasi cukup tinggi, terutama pada RAM dan ROM.\n",
        "\n",
        "2. Produk dengan RAM minimal 8GB dan ROM 128GB atau lebih memiliki kecenderungan lebih tinggi untuk menghasilkan penjualan tinggi.\n",
        "\n",
        "3. Evaluasi kinerja brand tertentu yang menunjukkan tren positif dalam penjualan untuk dijadikan prioritas dalam pengadaan.\n",
        "\n",
        "4. Gunakan hasil model ini untuk membantu divisi penjualan dalam mengidentifikasi produk yang potensial laku keras sebelum diluncurkan ke pasar.\n",
        "\n",
        "5. Tingkatkan kualitas data spesifikasi (seperti kelengkapan kolom SSD) agar model prediksi bisa menjadi lebih akurat di masa depan."
      ],
      "metadata": {
        "id": "CQuBCjztLQj6"
      }
    },
    {
      "cell_type": "markdown",
      "source": [
        "# **KESIMPULAN**"
      ],
      "metadata": {
        "id": "W3gyqqncLXhP"
      }
    },
    {
      "cell_type": "markdown",
      "source": [
        "Model Decision Tree yang dibangun dari dataset penjualan produk mobile dan laptop mampu memberikan wawasan yang bermanfaat dalam mengidentifikasi produk mana yang cenderung menghasilkan penjualan tinggi. Dengan menggunakan fitur-fitur seperti harga, RAM, ROM, SSD, dan brand, model dapat menyusun pola pengambilan keputusan yang menggambarkan preferensi konsumen secara logis dan transparan. Visualisasi pohon keputusan memperlihatkan bahwa harga merupakan faktor dominan dalam memisahkan kategori penjualan tinggi dan rendah, diikuti oleh spesifikasi teknis.\n",
        "\n",
        "Model ini memberikan dasar yang kuat untuk pengambilan keputusan strategis, seperti penentuan harga optimal, spesifikasi produk yang disukai pasar, dan seleksi brand untuk distribusi. Namun demikian, hasil ini tetap perlu dikaji ulang secara periodik karena tren teknologi dan preferensi konsumen bisa berubah dengan cepat. Diperlukan juga pelatihan model secara berkala dengan data terbaru agar hasil prediksi tetap relevan dan akurat.\n",
        "\n"
      ],
      "metadata": {
        "id": "6sWOKWkfLbG_"
      }
    }
  ]
}